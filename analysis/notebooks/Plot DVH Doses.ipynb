{
 "metadata": {
  "language_info": {
   "codemirror_mode": {
    "name": "ipython",
    "version": 3
   },
   "file_extension": ".py",
   "mimetype": "text/x-python",
   "name": "python",
   "nbconvert_exporter": "python",
   "pygments_lexer": "ipython3",
   "version": "3.9.2-final"
  },
  "orig_nbformat": 2,
  "kernelspec": {
   "name": "python3",
   "display_name": "Python 3.9.2 64-bit ('clinical_analysis_env': conda)",
   "metadata": {
    "interpreter": {
     "hash": "ba5feec421027a7f0a24164f49dde6c7ce05c8eea3acca229d6ec7a7c01926f8"
    }
   }
  }
 },
 "nbformat": 4,
 "nbformat_minor": 2,
 "cells": [
  {
   "source": [
    "Load a DVH file using the DVHParser and plot its dose values for a structure"
   ],
   "cell_type": "markdown",
   "metadata": {}
  },
  {
   "cell_type": "code",
   "execution_count": 13,
   "metadata": {},
   "outputs": [],
   "source": [
    "import sys\n",
    "sys.path.append(\"../../db_updater/\")\n",
    "from DVHParser import DVHParser\n",
    "%matplotlib inline\n",
    "import matplotlib.pyplot as plt"
   ]
  },
  {
   "cell_type": "code",
   "execution_count": 14,
   "metadata": {},
   "outputs": [],
   "source": [
    "parser = DVHParser(\"X:/2RESEARCH/1_ClinicalData/SPARK/CMN/Dose Reconstruction/DVH/PAT02/PAT02CMN_Original.txt\")\n",
    "parsedDVH = parser.parse()"
   ]
  },
  {
   "cell_type": "code",
   "execution_count": 15,
   "metadata": {},
   "outputs": [
    {
     "output_type": "stream",
     "name": "stdout",
     "text": [
      "Structures present in DVH: ['Bladder', 'CTV', 'PTV', 'Rectum', 'Urethra PRV']\nStructure\tmean dose value\n---------\t---------------\nBladder \t 29.0\nCTV \t 101.7\nPTV \t 101.7\nRectum \t 16.7\nUrethra PRV \t 98.1\n"
     ]
    }
   ],
   "source": [
    "allStructures = parser.getAllStructureNames()\n",
    "print(\"Structures present in DVH:\", allStructures)\n",
    "print(\"Structure\\tmean dose value\")\n",
    "print(\"---------\\t---------------\")\n",
    "for structure in allStructures:\n",
    "    print (structure, \"\\t\", \n",
    "        parser.getMeanDoseValueForStructure(structureName=structure))"
   ]
  },
  {
   "cell_type": "code",
   "execution_count": 19,
   "metadata": {
    "tags": []
   },
   "outputs": [
    {
     "output_type": "stream",
     "name": "stdout",
     "text": [
      "dict_keys(['Relative dose', 'Dose', 'Ratio of Total Structure Volume'])\ndict_keys(['Relative dose', 'Dose', 'Ratio of Total Structure Volume'])\ndict_keys(['Relative dose', 'Dose', 'Ratio of Total Structure Volume'])\ndict_keys(['Relative dose', 'Dose', 'Ratio of Total Structure Volume'])\ndict_keys(['Relative dose', 'Dose', 'Ratio of Total Structure Volume'])\n"
     ]
    }
   ],
   "source": [
    "# for structure in allStructures:\n",
    "for structureData in parsedDVH[\"structures\"]:\n",
    "    print(structureData[\"dose values\"].keys())"
   ]
  },
  {
   "cell_type": "code",
   "execution_count": 21,
   "metadata": {
    "tags": []
   },
   "outputs": [
    {
     "output_type": "stream",
     "name": "stdout",
     "text": [
      "Structure: Bladder\n95.0 3443.75 5.28624\n100.0 3625.0 3.20372\nStructure: CTV\n95.0 3443.75 100.0\n100.0 3625.0 99.9503\nStructure: PTV\n95.0 3443.75 100.0\n100.0 3625.0 98.6225\nStructure: Rectum\n95.0 3443.75 0.00121479\n100.0 3625.0 0.0\nStructure: Urethra PRV\n95.0 3443.75 91.7578\n100.0 3625.0 88.1051\n"
     ]
    }
   ],
   "source": [
    "for structureData in parsedDVH[\"structures\"]:\n",
    "    print(\"Structure:\", structureData[\"Structure\"])\n",
    "    counter = 0\n",
    "    for relativeDose in structureData[\"dose values\"][\"Relative dose\"]:\n",
    "        if relativeDose == 95.0 or relativeDose == 100.0:\n",
    "            print(relativeDose, structureData[\"dose values\"][\"Dose\"][counter], \n",
    "                structureData[\"dose values\"][\"Ratio of Total Structure Volume\"][counter])\n",
    "            # break\n",
    "        counter += 1\n"
   ]
  },
  {
   "cell_type": "code",
   "execution_count": null,
   "metadata": {},
   "outputs": [],
   "source": []
  }
 ]
}